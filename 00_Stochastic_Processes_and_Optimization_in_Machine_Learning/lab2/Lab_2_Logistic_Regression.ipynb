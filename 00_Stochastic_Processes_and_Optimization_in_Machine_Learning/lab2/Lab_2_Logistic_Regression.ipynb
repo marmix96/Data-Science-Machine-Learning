{
 "cells": [
  {
   "cell_type": "markdown",
   "metadata": {
    "colab_type": "text",
    "id": "HBURy4ihEfMj"
   },
   "source": [
    "<h1><b>Ο αλγόριθμος Logistic Regression</b></h1>\n",
    "<p align=\"justify\">Στην άσκηση αυτή θα μελετήσετε τον αλγόριθμο <i>logistic regression</i>, κατασκευάζοντας ένα σύντομο πρόγραμμα. Στην άσκηση αυτή θα χρησιμοποιήσετε τη βιβλιοθήκη της <i>Python Scikit-Learn</i>. Για τη διευκόλυνσή σας παρέχονται οι δηλώσεις των βιβλιοθηκών που θα χρησιμοποιήσετε καθώς και εντολές με κενά. Συγκεκριμένα, θα κατασκευάσετε έναν <i>ταξινομητή Spam μηνυμάτων SMS</i>. Τα δεδομένα που θα χρησιμοποιήσετε για την εκπαίδευση και την επικύρωση του μοντέλου, καθώς και πληροφορίες για αυτά μπορούν να βρεθούν <a href=\"https://archive.ics.uci.edu/ml/datasets/sms+spam+collection\"><i>εδώ</i></a>.</p>\n",
    "<p align=\"justify\">Καλείστε να αναπτύξετε ένα πρόγραμμα, το οποίο:</p>\n",
    "<ul>\n",
    "<li>Θα φορτώνει τα δεδομένα από το αρχείο <i>.csv</i>.</li>\n",
    "<li>Θα διαχωρίζει με τυχαίο τρόπο τα δεδομένα που παρέχονται σε δεδομένα εκπαίδευσης <i>(training set)</i> και δεδομένα για τον υπολογισμό της ακρίβειας του μοντέλου <i>(test set)</i>.</li>\n",
    "<li>Θα πραγματοποιεί προεπεξεργασία στα δεδομένα χρησιμοποιώντας τη μέθοδο <i>TfidVectorizer</i> της βιβλιοθήκης <i>Scikit-Learn</i>. Περισσότερες πληροφορίες για τη μέθοδο <i>TfidVectorizer</i>, που περιλαμβάνεται στις δηλώσεις του προγράμματος, μπορούν να βρεθούν <a href=\"https://scikit-learn.org/stable/modules/generated/sklearn.feature_extraction.text.TfidfVectorizer.html\"><i>εδώ</i></a>. Να σημειωθεί πως η μέθοδος <i>TfidVectorizer</i> της <i>Scikit-Learn</i> αφαιρεί και τα σημεία στίξης, καθώς επεξεργάζεται το dataset.</li>\n",
    "<li>Θα εκπαιδεύει το μοντέλο <i>logistic regression</i>.\n",
    "<li>Θα υπολογίζει την ακρίβειά του πάνω στο <i>test set</i>.</li>\n",
    "</ul>\n",
    "<p align=\"justify\">Για ποιους λόγους πιστεύετε ότι δεν είναι κατάλληλη η εφαρμογή της μεθόδου <i>linear regression</i> στο συγκεκριμένο πρόβλημα;</p>"
   ]
  },
  {
   "cell_type": "code",
   "execution_count": 1,
   "metadata": {
    "colab": {},
    "colab_type": "code",
    "id": "JEdw5TJMEmpy"
   },
   "outputs": [],
   "source": [
    "import pandas as pd\n",
    "import numpy as np\n",
    "from sklearn.feature_extraction.text import TfidfVectorizer\n",
    "from sklearn.linear_model import LogisticRegression\n",
    "from sklearn.model_selection import train_test_split, cross_val_score"
   ]
  },
  {
   "cell_type": "code",
   "execution_count": 2,
   "metadata": {
    "colab": {},
    "colab_type": "code",
    "id": "FF19eQsYE6DK"
   },
   "outputs": [
    {
     "name": "stdout",
     "output_type": "stream",
     "text": [
      "Logistic regression's accuracy with cross-validation is: 88.8789%\n",
      "Logistic regression's accuracy without cross-validation is approximately 96.233%.\n"
     ]
    }
   ],
   "source": [
    "# load csv file\n",
    "df  = pd.read_csv(\"SMSSpamCollection\", names=[\"Label\", \"Message\"], sep='\\t')\n",
    "\n",
    "# split dataset\n",
    "X_train_raw, X_test_raw, y_train_raw, y_test_raw = train_test_split(df[\"Message\"], df[\"Label\"], test_size=0.2)\n",
    "\n",
    "# vectorize data\n",
    "vectorizer = TfidfVectorizer(strip_accents=\"unicode\", stop_words = \"english\")\n",
    "X_train = vectorizer.fit_transform(X_train_raw)\n",
    "X_test = vectorizer.transform(X_test_raw)\n",
    "\n",
    "# fit Logistic Regression model\n",
    "logisticRegressor = LogisticRegression().fit(X_train, y_train_raw)\n",
    "\n",
    "# calculate accurary based on test set\n",
    "scores = cross_val_score(logisticRegressor, X_test, y_test_raw, cv = 5) # calculate accurary based on test set + 5-fold CV\n",
    "accuracy = scores.mean()\n",
    "print(\"Logistic regression's accuracy with cross-validation is: {:.4f}%\".format(100*accuracy))\n",
    "print(\"Logistic regression's accuracy without cross-validation is approximately {:.3f}%.\".format(\n",
    "    100*logisticRegressor.score(X_test, y_test_raw)))"
   ]
  },
  {
   "cell_type": "markdown",
   "metadata": {},
   "source": [
    "Είναι αναμενόμενα στο συγκεκριμένο πρόβλημα τα δεδομένα να μην είναι γραμμικά διαχώρισιμα, οπότε η γραμμική παλινδρόμηση δεν θα έδινε αξιόλογα αποτελέσματα. Η χρήση του linear regression στοχεύει κυρίως στον υπολογισμό αριθμητικών τιμών, ενώ η λογιστική παλινδρόμηση αποσκοπεί στον υπολογισμό των πιθανότητων των εκάστοτε κλάσεων αναθέτοντας τις ετικέτες ανάλογα. Επιπλέον, η γραμμική παλινδρόμηση είναι αρκετά ευαίσθητη σε outliers και μπορεί να αλλάξει αρκετά το διάνυσμα βαρών που χαρακτηρίζει την μέθοδο, με την προσθήλη ένος νέου μηνύματος στην περίπτωση που αποτελεί έκτοπη τιμή. Αντίθετα, η μέθοδος της λογιστικής παλινδρόμησης είναι πολύ πιο εύρωστη στην διαχείριση έκτοπων τιμών και ως εκ τούτου παράγει καλύτερα αποτελέσματα."
   ]
  }
 ],
 "metadata": {
  "colab": {
   "name": "Stochastic_Processes_&_Optimization_in_Machine_Learning_(Lab_2_Logistic_Regression).ipynb",
   "provenance": []
  },
  "kernelspec": {
   "display_name": "Python 3",
   "language": "python",
   "name": "python3"
  },
  "language_info": {
   "codemirror_mode": {
    "name": "ipython",
    "version": 3
   },
   "file_extension": ".py",
   "mimetype": "text/x-python",
   "name": "python",
   "nbconvert_exporter": "python",
   "pygments_lexer": "ipython3",
   "version": "3.8.3"
  }
 },
 "nbformat": 4,
 "nbformat_minor": 1
}
