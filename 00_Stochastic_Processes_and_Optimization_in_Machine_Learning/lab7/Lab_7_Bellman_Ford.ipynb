{
 "cells": [
  {
   "cell_type": "markdown",
   "metadata": {
    "colab_type": "text",
    "id": "Nn4LlotO0M7n"
   },
   "source": [
    "<b><h1>Bellman-Ford</h1></b>\n",
    "<p align=\"justify\">Δίνεται το παρακάτω σχήμα</p>\n",
    "<img src=\"https://raw.githubusercontent.com/nkostopoulos/StochasticsLabPublic/master/lab7/bellman-topology.png\"></img>"
   ]
  },
  {
   "cell_type": "markdown",
   "metadata": {
    "colab_type": "text",
    "id": "3RKpzNxE1NeN"
   },
   "source": [
    "<b><h3>Ερωτήσεις</h3></b>\n",
    "<ul>\n",
    "<li>Να περιγράψετε, συνοπτικά, τη λειτουργία του αλγορίθμου <i>Bellman-Ford</i>.</li>\n",
    "<li>Να εφαρμόσετε τον αλγόριθμο <i>Bellman-Ford</i> στο γράφο του παραπάνω σχήματος για τις ακμές που συμβολίζονται με μαύρο χρώμα και συνεχή γραμμή. Ως πηγή του αλγορίθμου να θεωρήσετε το <b>AS #2</b>. Ποιο είναι το συνολικό κόστος της διαδρομής από το <b>AS #2</b> στο <b>AS #11</b>; Ποιο είναι το μονοπάτι του δέντρου <i>Bellman-Ford</i> από το <b>AS #2</b> στο <b>AS #11</b>;</li>\n",
    "<li>Το <b>AS #2</b> εξετάζει την προσθήκη μιας ζεύξης είτε με το <b>AS #4</b> ή με το <b>AS #1</b>. Οι ζεύξεις αυτές φαίνονται στον παραπάνω γράφο με μαύρες διακεκομμένες γραμμές. Γιατί πιστεύετε ότι χρειάζεται το <b>AS #2</b> την επιπλέον αυτή ζεύξη; Ποια από τις παραπάνω ζεύξεις θα πρέπει να προτιμήσει το <b>AS #2</b> για να είναι μικρότερο το κόστος της διαδρομής από το <b>AS #2</b> μέχρι το <b>AS #11;</b></li>\n",
    "<li>Προσθέστε την κατάλληλη ζεύξη, όπως την προσδιορίσατε στο προηγούμενο ερώτημα. Έστω ότι η ζεύξη <b>AS #2</b> – <b>AS #3</b> παθαίνει μια βλάβη. Ποιο είναι, τώρα, το κόστος της διαδρομής από το <b>AS #2</b> μέχρι το <b>AS #11</b>; Πόσο επιβαρύνθηκε σε σχέση με το δεύτερο ερώτημα;</li>\n",
    "<li>Έστω ότι αποκαθίσταται η βλάβη. Το <b>AS #12</b> προσφέρεται να ενώσει τα <b>AS #10</b> και <b>AS #11</b> απ’ ευθείας στο <b>AS #3</b>. Το <b>AS #12</b> μαζί με τις νέες ακμές που θα προστεθούν φαίνονται με κόκκινο χρώμα στον παραπάνω γράφο. Πόσο θα βελτιωθεί το συνολικό κόστος <b>AS #2</b> – <b>AS #11</b>; Το συγκεκριμένο ερώτημα προσπαθεί να προσομοιώσει τη λειτουργία του GR-IX. Τι είναι το GR-IX (<a href=\"https://gr-ix.gr\">site</a>) και ποιος είναι ο ρόλος του για το ελληνικό Internet;</li>\n",
    "</ul>\n",
    "<br>\n",
    "<i><p align=\"justify\">Για την επιλύση της άσκησης θα χρησιμοποιήσετε τη βιβλιοθήκη της Python <a href=\"https://pypi.org/project/bellmanford/\">bellmanford</a></p></i>"
   ]
  },
  {
   "cell_type": "markdown",
   "metadata": {},
   "source": [
    "Ο συγκεκριμένος αλγόριθμος υπολογίζει τα συντομότερα μονοπάτια, από έναν (μοναδικό) κόμβο-αφετηρία πρός όλους τους άλλους κόμβους κάποιου δεδομένου βεβαρημένου γραφήματος και ανήκει στην οικογένεια των αλγορίθμων δυναμικού προγραμματισμού. Ως πρός την απόδοση του, είναι πιο \"αργός\" σε σχέση με τον αλγόριθμο του Dijkstra, για το αντίστοιχο πρόβλημα, όμως έχει την δυνατότητα να λειτουργεί επιτυχώς σε γράφους που εμπεριέχουν και αρνητικά βάρη. Η πολυπλοκότητα του αλγορίθμου ανάγεται σε $O(|V| \\cdot |E|)$, όπου $|V|$: # κόμβων και $|E|$: # ακμών του γραφήματος. Στην χειρότερη περίπτωση όπου το δοσμένο γράφημα είναι πλήρες, επομένως θα ισχύει $|E| = O(|V|^2)$, η πολυπλοκότητα του αλγορίθμου γίνεται $O(|V|^3)$.\n",
    "\\\\\n",
    "Συνοπτικά η λειτουργία του αλγορίθμου συνοψίζεται ως εξής: Αρχικά απαιτείται να προσδιοριστεί ο κόμβος-αφετηρία, όπου για τον οποίο θέτεται το $L_{start\\_node}^{n} = 0, \\forall n$, όπου $n$ ο αριθμός των επαναλήψεων που εκτελείται ο αλγόριθμος. Για τους υπόλιπους κόμβους θέτεται $L_i^0 = + \\infty, \\forall i \\in V - \\{start\\_node\\}$. Έπειτα για κάθε μία επαναλήψη του αλγορίθμου και για κάθε έναν από τους υπόλοιπους κόμβους (πλήν του τερματικού), ανανεώνονται ασύχρονα οι εκτιμήσεις ελαχίστου κόστους, από τον εκάστοτε κόμβο πρός τον κόμβο-προορισμό, βάσει της ακόλουθης σχέσης δυναμικού προγραμματισμού:\n",
    "$L_i^{(n+1)} = min_{j \\in E - \\{end\\_node\\}} \\left\\{L_j^{(n)} + d_{ij}\\right\\}$"
   ]
  },
  {
   "cell_type": "code",
   "execution_count": 1,
   "metadata": {},
   "outputs": [],
   "source": [
    "#!pip install bellmanford\n",
    "import bellmanford as bf\n",
    "import networkx as nx"
   ]
  },
  {
   "cell_type": "code",
   "execution_count": 2,
   "metadata": {},
   "outputs": [
    {
     "name": "stdout",
     "output_type": "stream",
     "text": [
      "The total cost of the shortest path is 22.\n",
      "The shortest path is [2, 3, 5, 7, 8, 9, 11]\n"
     ]
    }
   ],
   "source": [
    "G = nx.Graph() # define the graph\n",
    "\n",
    "G.add_nodes_from([1,2,3,4,5,6,7,8,9,10,11,12,13]) # define its nodes, we add AS#12 here, but we dont add the respective edges\n",
    "\n",
    "# define its edges\n",
    "G.add_weighted_edges_from([(1,3,4), (2,3,4), (3,5,2), (4,5,20), \n",
    "                           (5,6,5), (5,7,2), (6,7,4), (7,8,3), \n",
    "                           (8,9,7), (8,13,4), (9,10,3), (9,11,4), (9,13,5)])\n",
    "\n",
    "# run bellman_ford algorithm for this graph\n",
    "ans = bf.bellman_ford(G, source = 2, target = 11)\n",
    "print(\"The total cost of the shortest path is {}.\".format(ans[0]))\n",
    "print(\"The shortest path is {}\".format((ans[1])))"
   ]
  },
  {
   "cell_type": "markdown",
   "metadata": {},
   "source": [
    "Θεωρώντας ως πηγή αφετηρίας τον κόμβο AS \\#2 εκτελείται ο αλγόριθμος Belman-Ford, θεωρώντας ως ακμές του αρχικού γραφήματος εκείνες με μαύρο χρώμα μόνο.\n",
    "\n",
    "Τρέχοντας το αντίστοιχο πρόγραμμα σε python, βλέπουμε ότι εν τέλει το ελάχιστο δυνατό κόστος για την μετάβαση από το AS \\#2 στο AS \\#11 είναι 22, με μονοπάτι AS \\#2 -> AS \\#3 -> AS \\#5 -> AS \\#7 -> AS \\#8 -> AS \\#9 -> AS \\#11"
   ]
  },
  {
   "cell_type": "markdown",
   "metadata": {},
   "source": [
    "Το AS \\#2 εξετάζει την προσθήκη μίας επιπλέον συμπληρωματικής ζεύξης, προς τα κοντινότερα ASs, τα AS \\#1 και AS \\#4. Κάτι τέτοιο είναι απόλυτα αναγκαίο, μιάς και το AS \\#2 συνδέεται με τα υπόλοιπα ASs, μόνο μέσω του AS \\#3. Είναι φανερό επομένως ότι σε περίπτωση βλάβης της υφιστάμενης ζεύξης, το συγκεκριμένο AS θα παραμένει αποκομμένο από το υπόλοιπο δίκτυο, μέχρις ότου να αποκατασταθεί η βλάβη που θα έχει προκύψει.\n",
    "\n",
    "Αν προσθέσουμε την ζεύξη με τον AS#4 θα φτάνει πιο γρήγορα εκεί αλλά πιο αργά σε όλο το υπόλοιπο δίκτυο - δεδομένης της απώλειας της (AS#2,AS#3), οπότε αξίζει να προσθέσουμε την (AS#1, AS#2). "
   ]
  },
  {
   "cell_type": "code",
   "execution_count": 3,
   "metadata": {},
   "outputs": [
    {
     "name": "stdout",
     "output_type": "stream",
     "text": [
      "The total cost of the shortest path is 32.\n",
      "The shortest path is [2, 1, 3, 5, 7, 8, 9, 11]\n"
     ]
    }
   ],
   "source": [
    "G.remove_edge(2,3) # link AS #2 - AS #3 doesn't work in this case\n",
    "G.add_edge(1,2,weight = 10) # add link AS #2 - AS #1 with cost 10\n",
    "\n",
    "# run again Bellman-Ford Algorithm\n",
    "ans = bf.bellman_ford(G, source = 2, target = 11)\n",
    "print(\"The total cost of the shortest path is {}.\".format(ans[0]))\n",
    "print(\"The shortest path is {}\".format((ans[1])))"
   ]
  },
  {
   "cell_type": "markdown",
   "metadata": {},
   "source": [
    "Σε περίπτωση βλάβης η διαδρομή που ακολουθείται είναι AS \\#2 -> AS \\#1 -> AS \\#3 -> AS \\#5 -> AS \\#7 -> AS \\#8 -> AS \\#9 -> AS \\#11 και το συνολικό κόστος επιβαρύνθηκε κατά 10."
   ]
  },
  {
   "cell_type": "markdown",
   "metadata": {},
   "source": [
    "Έστω ότι αποκαθίσταται η βλάβη στην ζεύξη AS \\#2 - AS \\#3. Επιπλέον το AS \\#12 συνδέεται με τα AS \\#3, AS \\#10, AS \\#11, όπως φαίνεται και στην εκφώνιση (ακμές με κόκκινο χρώμα).\n",
    "\n",
    "Προφανώς για την διαδρομή AS \\#2 - AS \\#3 το συντομότερο μονοπάτι είναι η απευθείας ζεύξη μεταξύ τους. Έπειτα, από εκείνο το AS και μετά, μέχρι το AS \\#11 το κόστος ήταν επιπλέον +18 μονάδες. Αντιθέτως, αναλαμβάνοντας το AS \\#12 ενεργό ρόλο, η μετάβαση από το AS \\#3 στο AS \\#11 καθίσταται δυνατή να πραγματοποιηθεί με επιπλέον +6 μονάδες κόστους. Επομένως το συνολικό κόστος που απαιτείται σε αυτή την περίπτωση είναι 10, έναντι 22 αρχικά.\n",
    "\n",
    "Έπειτα από την εκτέλεση του παρακάτω κώδικα Python, το νέο συντομότερο μονοπάτι είναι το εξής: AS \\#2 -> AS \\#3 -> AS \\#12 -> AS \\#11, με συνολικό κόστος 10 (έναντι 22 αρχικά), έχοντας επιτύχει βελτίωση κατά 12 μονάδες κόστους."
   ]
  },
  {
   "cell_type": "code",
   "execution_count": 4,
   "metadata": {},
   "outputs": [
    {
     "name": "stdout",
     "output_type": "stream",
     "text": [
      "The total cost of the shortest path is 10.\n",
      "The shortest path is [2, 3, 12, 11]\n"
     ]
    }
   ],
   "source": [
    "G.add_weighted_edges_from([(2,3,4), (3,12,2), (10,12,2), (11,12,4)]) # add new edges\n",
    "\n",
    "# run again Bellman-Ford Algorithm in order to find the shorter\n",
    "# path between AS 2 & AS 11\n",
    "ans = bf.bellman_ford(G, source = 2, target = 11)\n",
    "print(\"The total cost of the shortest path is {}.\".format(ans[0]))\n",
    "print(\"The shortest path is {}\".format((ans[1])))"
   ]
  },
  {
   "cell_type": "markdown",
   "metadata": {},
   "source": [
    "Τo GR-IX είναι το ελληνικό δίκτυο ανταλλαγής Internet. Ένα δίκτυο ανταλλαγής Internet συνδέει παρόχους υπηρεσίων Internet και παρόχους διαδικτυακού περιεχομένου με τέτοιο τρόπο ώστε να υπάρχει μειωμένη κίνηση μεταξύ τους και να εξασφαλίζεται μικρότερο κόστος λειτουργίας αλλά και αυξημένη ταχύτητα. Για να το δούμε μέσα από την άσκηση, η προσθήκη του AS#12 στο δίκτυο μαζί με τις ζεύξεις που αυτή συνεπάγεται θα επισπέυσει την επικοινωνία μεταξύ των AS#1-5 με τις AS#9-11."
   ]
  }
 ],
 "metadata": {
  "colab": {
   "collapsed_sections": [],
   "name": "Stochastic_Processes_&_Optimization_in_Machine_Learning_(Lab_7_Bellman_Ford).ipynb",
   "provenance": []
  },
  "kernelspec": {
   "display_name": "Python 3",
   "language": "python",
   "name": "python3"
  },
  "language_info": {
   "codemirror_mode": {
    "name": "ipython",
    "version": 3
   },
   "file_extension": ".py",
   "mimetype": "text/x-python",
   "name": "python",
   "nbconvert_exporter": "python",
   "pygments_lexer": "ipython3",
   "version": "3.8.3"
  }
 },
 "nbformat": 4,
 "nbformat_minor": 1
}
