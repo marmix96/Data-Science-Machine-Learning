{
 "cells": [
  {
   "cell_type": "markdown",
   "metadata": {
    "colab_type": "text",
    "id": "B2H70g4D1dGg"
   },
   "source": [
    "<h2><b><i>Radial Basis Function Neural Network</i></b></h2>"
   ]
  },
  {
   "cell_type": "markdown",
   "metadata": {
    "colab_type": "text",
    "id": "FcUo-iIDz8xG"
   },
   "source": [
    "Σκοπός της παρούσας άσκησης είναι η κατηγοριοποίηση χειρόγραφων ψηφίων από το [MNIST dataset](https://www.wikiwand.com/en/MNIST_database) με τη χρήση νευρωνικών δικτύων [RBF](https://en.wikipedia.org/wiki/Radial_basis_function) (RBF). Για την κατηγοροποίηση των χειρόγραφων ψηφίων, χρησιμοποιείται ο αλγόριθμος K-means. Στη κλασική υλοποίηση του K-means όπου έχουμε το κέντρο του cluster και ταξινομομούμε κάθε σημείο με βάση την απόσταση από τα κέντρα. Σε αυτή την περίπτωση μπορεί να υπάρξουν σημεία που να μην μπορούν να αντιστοιχηθούν σε κάποιο cluster. Με τη χρήση του νευρωνικού δικτύου RBF κάθε σημείο ταξινομείται σε ομάδες με συγκεκριμένο κέντρο, γνωρίζοντας όμως τις αποστάσεις μεταξύ των κέντρων αλλά και με διαστήματα εμπιστοσύνης ως προς την πρόβλεψή μας. Με αυτό το τρόπο όλα τα σημεία αντιστοιχίζονται σε ένα cluster. Για να είναι ομαλή η ταξινόμηση των στοιχείων στα clusters μπορεί να χρησιμοποιηθεί μια εκθετική συνάρτηση υψωμένη στην αρνητική τιμή της απόστασης ως γινόμενο με έναν βαθμωτό συντελεστή beta, όπως φαίνεται παρακάτω:\n",
    "\n",
    "![alt text](https://miro.medium.com/max/145/1*MIay3aIlpT18yewOfnvTiQ.png)\n",
    "\n",
    "Στα πλαίσια του παραδείγματος για το β χρησιμοποιήθηκε ο παρακάτω τύπος\n",
    "\n",
    "![alt text](https://miro.medium.com/max/608/1*YEcI_P6orY917fQrzHQEjQ.png)\n",
    "\n",
    "Όπου k ο αριθμός των clusters και Dmax η μέγιστη ευκλείδια απόσταση μεταξύ των κέντρων. Το dataset που θα χρησιμοποιήσετε είναι διαθέσιμο [εδώ](https://drive.google.com/file/d/1WrVPB3C1vIApWNz5BaSuNmHFopf5htCg/view?usp=sharing) (θα πρέπει να το φορτώσετε στο Colab για να το τρέξετε). \n",
    "\n",
    "*Οι ερωτήσεις της άσκησης είναι μαζί με το αντίστοιχο βήμα στον κώδικα*\n"
   ]
  },
  {
   "cell_type": "markdown",
   "metadata": {
    "colab_type": "text",
    "id": "qTqNFzQsCYiP"
   },
   "source": [
    "**Βήμα 1ο**\n",
    "\n",
    "Τρέχετε τον κώδικα στον οποίο και ορίζονται οι συναρτήσεις που θα μας χρειαστούν. Στα πλαίσια της άσκησης χρησιμοποιούμε μία παραμετροποιημένη έκδοση της συνάρτησης K-Means, όπου μας επιστρέφει τα κέντρα των ομάδων (clusters) καθώς και την τυπική απόκλιση τους."
   ]
  },
  {
   "cell_type": "code",
   "execution_count": 1,
   "metadata": {
    "colab": {},
    "colab_type": "code",
    "id": "K10m9MxE98sp"
   },
   "outputs": [],
   "source": [
    "\"\"\"''\n",
    "\n",
    "Copyright © 2020 Tarlan Ahadli\n",
    "\n",
    "Permission is hereby granted, free of charge, to any person obtaining a\n",
    "copy of this software and associated documentation files (the “Software”),\n",
    "to deal in the Software without restriction, including without limitation\n",
    "the rights to use, copy, modify, merge, publish, distribute, sublicense,\n",
    "and/or sell copies of the Software, and to permit persons to whom the Software\n",
    "is furnished to do so, subject to the following conditions:\n",
    "\n",
    "The above copyright notice and this permission notice shall be included\n",
    "in all copies or substantial portions of the Software.\n",
    "\n",
    "THE SOFTWARE IS PROVIDED “AS IS”, WITHOUT WARRANTY OF ANY\n",
    "KIND, EXPRESS OR IMPLIED, INCLUDING BUT NOT LIMITED TO THE\n",
    "WARRANTIES OF MERCHANTABILITY, FITNESS FOR A PARTICULAR PURPOSE\n",
    "AND NONINFRINGEMENT. IN NO EVENT SHALL THE AUTHORS OR COPYRIGHT\n",
    "HOLDERS BE LIABLE FOR ANY CLAIM, DAMAGES OR OTHER LIABILITY,\n",
    "WHETHER IN AN ACTION OF CONTRACT, TORT OR OTHERWISE, ARISING\n",
    "FROM, OUT OF OR IN CONNECTION WITH THE SOFTWARE OR THE USE OR\n",
    "OTHER DEALINGS IN THE SOFTWARE.\n",
    "\n",
    "''\"\"\"\n",
    "\n",
    "import numpy as np\n",
    "\n",
    "\n",
    "def get_distance(x1, x2):\n",
    "    sum = 0\n",
    "    for i in range(len(x1)):\n",
    "        sum += (x1[i] - x2[i]) ** 2\n",
    "    return np.sqrt(sum)\n",
    "\n",
    "\n",
    "def kmeans(X, k, max_iters):\n",
    "    centroids = X[np.random.choice(range(len(X)), k, replace=False)]\n",
    "    # centroids = [np.random.uniform(size=len(X[0])) for i in range(k)]\n",
    "\n",
    "    converged = False\n",
    "    current_iter = 0\n",
    "\n",
    "    while (not converged) and (current_iter < max_iters):\n",
    "\n",
    "        cluster_list = [[] for i in range(len(centroids))]\n",
    "\n",
    "        for x in X:  # Go through each data point\n",
    "            distances_list = []\n",
    "            for c in centroids:\n",
    "                distances_list.append(get_distance(c, x))\n",
    "            cluster_list[int(np.argmin(distances_list))].append(x)\n",
    "\n",
    "        cluster_list = list((filter(None, cluster_list)))\n",
    "\n",
    "        prev_centroids = centroids.copy()\n",
    "\n",
    "        centroids = []\n",
    "\n",
    "        for j in range(len(cluster_list)):\n",
    "            centroids.append(np.mean(cluster_list[j], axis=0))\n",
    "\n",
    "        pattern = np.abs(np.sum(prev_centroids) - np.sum(centroids))\n",
    "\n",
    "        print('K-MEANS: ', int(pattern))\n",
    "\n",
    "        converged = (pattern == 0)\n",
    "\n",
    "        current_iter += 1\n",
    "\n",
    "    return np.array(centroids), [np.std(x) for x in cluster_list]\n"
   ]
  },
  {
   "cell_type": "markdown",
   "metadata": {
    "colab_type": "text",
    "id": "gvN-O5euDlVg"
   },
   "source": [
    "**Βήμα 2ο**\n",
    "\n",
    "Τρέχουμε την κλάση για το RBFNN\n",
    "\n",
    "---\n",
    "\n",
    "***Ερώτηση 1***\n",
    "\n",
    "Να αναφέρετε επιγραμματικά με ποιον τρόπο λειτουργεί ένα νευρωνικό δίκτυο RBF."
   ]
  },
  {
   "cell_type": "markdown",
   "metadata": {},
   "source": [
    "Η ακτινική συνάρτηση βάσης (RBF) είναι μία συνάρτηση που συνήθως συμβολίζουμε με $\\phi$ και έχει την ιδιότητα $$ \\phi(x) = \\phi(\\lvert\\lvert x \\rvert\\rvert)$$\n",
    "Δηλαδή η τιμή της συνάρτησης δεν εξαρτάται πλήρως από το $x$ παρά μόνο από την νόρμα αυτού, δηλαδή την ακτίνα του κύκλου με κέντρο των αξόνων που το περιέχει, εξ ου και το όνομα ακτινική. Συνεπώς, μπορούμε να ορίσουμε και μία ελαφρά γενίκευση \n",
    "$$ \\phi(x) = \\phi(\\lvert\\lvert x - c\\rvert\\rvert)$$\n",
    "όπου το c είναι κάποιο σταθερό σημείο γύρω από το οποίο εργαζόμαστε αντί του $Ο$. Οι συναρτησεις αυτές αποτελούν βάση του χώρου $\\mathbb{R}^n$, δηλαδή κάθε συνάρτηση $f: \\mathbb{R}^n \\to \\mathbb{R}$ μπορεί να γραφτεί ως γραμμικός συνδυασμός ακτινικών συναρτήσεων. Έτσι, ένα νευρωνικό δίκτυο δουλεύει με την προσέγγιση $$ f(x) \\approx \\sum_{i=1}^n w_i \\phi(\\lvert\\lvert x - c_i\\rvert\\rvert)$$. Δεδομένου ότι η $\\phi$ και τα $c_i$ επιλέγονται εξαρχής μένει να υπολογιστούν μόνο τα βάρη $w_i$ οπότε ένα νευρωνικό δίκτυο RBF απλώς υπολογίζει αυτά μέχρι κάποιο κριτήριο σύγκλισης."
   ]
  },
  {
   "cell_type": "markdown",
   "metadata": {
    "colab_type": "text",
    "id": "gvN-O5euDlVg"
   },
   "source": [
    "***Ερώτηση 2***\n",
    "\n",
    "Στα πλαίσια του παραδείγματος, για κάθε αριθμό (κλάση) έχουμε μία μόνο ομάδα (cluster). Τι θα συνέβαινε αν είχαμε παραπάνω από μία ομάδες που θα αντιστοιχούσαν σε μία κλάση; Πώς λύνεται αυτό μέσω του RBF;"
   ]
  },
  {
   "cell_type": "markdown",
   "metadata": {},
   "source": [
    "Σε περίπτωση που θα είχαμε παραπάνω από μία ομάδες να αντιστοιχεί σε μία κλάση αναμένουμε να είχαμε αυξημένο αριθμό λανθασμένα κατηγοριοποιημένων ψηφίων. Το RBF δίκτυο δεν επιλέγει με βάση ένα cluster αλλά υπολογίζει μια σταθμισμένη μετρική μεταξύ των ομάδων (μέσω των βαρών), λαμβάνοντας συνεπώς όλα τα cluster υπ'όψιν."
   ]
  },
  {
   "cell_type": "code",
   "execution_count": 2,
   "metadata": {
    "colab": {},
    "colab_type": "code",
    "id": "syIsRZX-Dima"
   },
   "outputs": [],
   "source": [
    "class RBF:\n",
    "\n",
    "    def __init__(self, X, y, tX, ty, num_of_classes,\n",
    "                 k, std_from_clusters=True):\n",
    "        self.X = X\n",
    "        self.y = y\n",
    "\n",
    "        self.tX = tX\n",
    "        self.ty = ty\n",
    "\n",
    "        self.number_of_classes = num_of_classes\n",
    "        self.k = k\n",
    "        self.std_from_clusters = std_from_clusters\n",
    "\n",
    "    def convert_to_one_hot(self, x, num_of_classes):\n",
    "        arr = np.zeros((len(x), num_of_classes))\n",
    "        for i in range(len(x)):\n",
    "            c = int(x[i])\n",
    "            arr[i][c] = 1\n",
    "        return arr\n",
    "\n",
    "    def get_rbf(self, x, c, s):\n",
    "        distance = get_distance(x, c)\n",
    "        return 1 / np.exp(-distance / s ** 2)\n",
    "\n",
    "    def get_rbf_as_list(self, X, centroids, std_list):\n",
    "        RBF_list = []\n",
    "        for x in X:\n",
    "            RBF_list.append([self.get_rbf(x, c, s) for (c, s) in zip(centroids, std_list)])\n",
    "        return np.array(RBF_list)"
   ]
  },
  {
   "cell_type": "markdown",
   "metadata": {
    "colab_type": "text",
    "id": "CXF5VY-UD1wo"
   },
   "source": [
    "**Βήμα 3ο**\n",
    "\n",
    "Τρέχουμε τη συνάρτηση όπου το RBFNN γίνεται fit. Αρχικά τρέχει ο αλγόριθμος k-means για να βρούμε τα κέντρα και την τυπική απόκλιση των clusters. Στη συνέχεια, μπορούμε να χρησιμοποιήσουμε το ίδιο beta για όλα τα clusters\n",
    "\n",
    "\n",
    "---\n",
    "***Ερώτηση 3***\n",
    "\n",
    "Με ποιούς τρόπους μπορούμε να υπολογίσουμε τα βάρη στα hidden layers; Ποιες διαφορές υπάρχουν στους τρόπους αυτούς; Ποιος παρέχει τη καλύτερη δυνατή λύση;"
   ]
  },
  {
   "cell_type": "markdown",
   "metadata": {
    "colab_type": "text",
    "id": "CXF5VY-UD1wo"
   },
   "source": [
    "Στην υλοποιήση της άσκησης βλέπουμε ότι χρησιμοποιείται η μέθοδος numpy.linal.pinv που είναι μέθοδος υπολογισμού του ψευδοαντιστρόφου (pinv = pseudo-inverse) οπότε απλά βρίσκουμε τα w λύνοντας το γραμμικό σύστημα. Ένας δεύτερος τρόπος υπολογισμού θα αποτελούσε μια επαναληπτική μέθοδος όπως η μέσω gradient descent. Προτιμούμε την πρώτη μέθοδο επειδή δίνει πιο ακριβές αποτέλεσμα σε συνδυασμό με τα RBF-NN."
   ]
  },
  {
   "cell_type": "code",
   "execution_count": 3,
   "metadata": {
    "colab": {},
    "colab_type": "code",
    "id": "AyrkdYmKD2w-"
   },
   "outputs": [],
   "source": [
    "  def fit(self):\n",
    "\n",
    "        self.centroids, self.std_list = kmeans(self.X, self.k, 1000)\n",
    "\n",
    "        if not self.std_from_clusters:\n",
    "            dMax = np.max([get_distance(c1, c2) for c1 in self.centroids for c2 in self.centroids])\n",
    "            self.std_list = np.repeat(dMax / np.sqrt(2 * self.k), self.k)\n",
    "\n",
    "        RBF_X = self.get_rbf_as_list(self.X, self.centroids, self.std_list)\n",
    "\n",
    "        self.w = np.linalg.pinv(RBF_X.T @ RBF_X) @ RBF_X.T @ self.convert_to_one_hot(self.y, self.number_of_classes)\n",
    "\n",
    "        RBF_list_tst = self.get_rbf_as_list(self.tX, self.centroids, self.std_list)\n",
    "\n",
    "        self.pred_ty = RBF_list_tst @ self.w\n",
    "\n",
    "        self.pred_ty = np.array([np.argmax(x) for x in self.pred_ty])\n",
    "\n",
    "        diff = self.pred_ty - self.ty\n",
    "\n",
    "        print('Accuracy: ', len(np.where(diff == 0)[0]) / len(diff))\n",
    "RBF.fit = fit"
   ]
  },
  {
   "cell_type": "markdown",
   "metadata": {
    "colab_type": "text",
    "id": "TWXVHJzDpZiS"
   },
   "source": [
    "**Βήμα 4ο**\n",
    "\n",
    "Σπάμε το dataset του MNIST σε training και testing και αφήνουμε το RBFNN να βγάλει το τελικό αποτέλεσμα.\n",
    "\n",
    "---\n",
    "\n",
    "***Ερώτηση 4***\n",
    "\n",
    "Επιχειρήστε να αλλάξετε την τιμή του k σε 500 και στη συνέχεια σε 1000. Τι παρατηρείτε ως προς την εκτέλεση;"
   ]
  },
  {
   "cell_type": "code",
   "execution_count": 4,
   "metadata": {
    "colab": {},
    "colab_type": "code",
    "id": "L1xrfJvAqEC-"
   },
   "outputs": [
    {
     "name": "stdout",
     "output_type": "stream",
     "text": [
      "\n",
      "Using k = 10\n",
      "\n",
      "K-MEANS:  10808\n",
      "K-MEANS:  10097\n",
      "K-MEANS:  4630\n",
      "K-MEANS:  2652\n",
      "K-MEANS:  2362\n",
      "K-MEANS:  919\n",
      "K-MEANS:  989\n",
      "K-MEANS:  147\n",
      "K-MEANS:  198\n",
      "K-MEANS:  537\n",
      "K-MEANS:  708\n",
      "K-MEANS:  439\n",
      "K-MEANS:  354\n",
      "K-MEANS:  161\n",
      "K-MEANS:  43\n",
      "K-MEANS:  23\n",
      "K-MEANS:  116\n",
      "K-MEANS:  89\n",
      "K-MEANS:  21\n",
      "K-MEANS:  65\n",
      "K-MEANS:  39\n",
      "K-MEANS:  168\n",
      "K-MEANS:  217\n",
      "K-MEANS:  0\n",
      "Accuracy:  0.6433333333333333\n",
      "Training + prediction time: 291.4917403\n",
      "\n",
      "Using k = 500\n",
      "\n",
      "K-MEANS:  422271\n",
      "K-MEANS:  9665\n",
      "K-MEANS:  2290\n",
      "K-MEANS:  1603\n",
      "K-MEANS:  4620\n",
      "K-MEANS:  3208\n",
      "K-MEANS:  1683\n",
      "K-MEANS:  425\n",
      "K-MEANS:  200\n",
      "K-MEANS:  198\n",
      "K-MEANS:  0\n",
      "Accuracy:  0.9733333333333334\n",
      "Training + prediction time: 7061.2602602\n",
      "\n",
      "Using k = 1000\n",
      "\n",
      "K-MEANS:  490293\n",
      "K-MEANS:  12000\n",
      "K-MEANS:  6897\n",
      "K-MEANS:  4499\n",
      "K-MEANS:  0\n",
      "Accuracy:  0.9933333333333333\n",
      "Training + prediction time: 7030.2817970999995\n"
     ]
    }
   ],
   "source": [
    "##################################\n",
    "from time import perf_counter\n",
    "\n",
    "data = np.load('mnist_data.npy').astype(float)\n",
    "\n",
    "train_y = data[0:2500, 0]\n",
    "train_x = data[0:2500, 1:]\n",
    "\n",
    "test_y = data[0:300, 0]\n",
    "test_x = data[0:300, 1:]\n",
    "\n",
    "\n",
    "for k in [10, 500, 1000]:\n",
    "    print(\"\\nUsing k = {}\\n\".format(k))\n",
    "    RBF_CLASSIFIER = RBF(train_x, train_y, test_x, test_y, num_of_classes=10,\n",
    "                         k=k, std_from_clusters=False)\n",
    "    start = perf_counter()\n",
    "    RBF_CLASSIFIER.fit()\n",
    "    end = perf_counter()\n",
    "    print(\"Training + prediction time: {}\".format(end - start))"
   ]
  },
  {
   "cell_type": "markdown",
   "metadata": {},
   "source": [
    "Με την αύξηση του k ο K-Means συγκλίνει πιο γρήγορα (step-wise) και αυξάνεται η ακρίβεια του δικτύο, αλλά το κόστος εκπαίδευσης ως προς τον χρόνο είναι τεράστιο."
   ]
  }
 ],
 "metadata": {
  "colab": {
   "name": "Stochastics_Lab9_Part1.ipynb",
   "provenance": []
  },
  "kernelspec": {
   "display_name": "Python 3",
   "language": "python",
   "name": "python3"
  },
  "language_info": {
   "codemirror_mode": {
    "name": "ipython",
    "version": 3
   },
   "file_extension": ".py",
   "mimetype": "text/x-python",
   "name": "python",
   "nbconvert_exporter": "python",
   "pygments_lexer": "ipython3",
   "version": "3.8.3"
  }
 },
 "nbformat": 4,
 "nbformat_minor": 1
}
