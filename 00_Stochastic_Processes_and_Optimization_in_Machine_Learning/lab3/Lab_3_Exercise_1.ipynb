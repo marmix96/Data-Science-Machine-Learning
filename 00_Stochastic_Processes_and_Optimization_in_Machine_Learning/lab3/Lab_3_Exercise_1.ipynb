{
 "cells": [
  {
   "cell_type": "markdown",
   "metadata": {
    "colab_type": "text",
    "id": "_6YO9eG4oROg"
   },
   "source": [
    "<h1><b>Άσκηση 1</b></h1>\n",
    "<p align=\"justify\">Στο ακόλουθο σχήμα φαίνεται η κάτοψη ενός σπιτιού με πέντε δωμάτια: <i>Κουζίνα (<b>Κ</b>)</i>, <i>Βιβλιοθήκη (<b>Β</b>)</i>, <i>Σαλόνι (<b>Σ</b>)</i>, <i>Υπνοδωμάτιο (<b>Υ</b>)</i> και <i>Μπάνιο (<b>Μ</b>)<i>, καθώς και οι πόρτες που τα συνδέουν. Ένα έντομο που ζει στο σπίτι διασχίζει κάθε βράδυ τυχαία μια από τις πόρτες του δωματίου στο οποίο βρίσκεται και παραμένει στο δωμάτιο που οδηγεί η πόρτα μέχρι το επόμενο βράδυ. Αρχικά το έντομο βρίσκεται στο <i>Μπάνιο</i>. Αν {X<sub>n</sub>}<sub>n</sub> είναι η μαρκοβιανή αλυσίδα που περιγράφει τη θέση του εντόμου μετά από n βράδια:<p>\n",
    "<ul>\n",
    "<li>Να περιγράψετε το χώρο καταστάσεων X της μαρκοβιανής αλυσίδας.</li>\n",
    "<li>Να προσδιορίσετε τον πίνακα πιθανοτήτων μετάβασης P της μαρκοβιανής αλυσίδας.</li>\n",
    "</ul>\n",
    "\n",
    "<img src=\"https://raw.githubusercontent.com/nkostopoulos/StochasticsLabPublic/master/lab3/ex1.png\"></img>\n"
   ]
  },
  {
   "cell_type": "markdown",
   "metadata": {},
   "source": [
    "(α) Ο χώρος καταστάσεων της μαρκοβιανής αλυσίδας, με βάση την οποία μπορεί να μοντελοποιηθεί το συγκεκριμένο πρόβλημα,\n",
    "είναι το σύνολο των δωματίων του σπιτιού. Επομένως έχουμε ότι:\n",
    "$\\mathbb{X} = \\left\\{K, B, \\Sigma, Μ, \\Upsilon\\right\\}$.\n",
    "\n",
    "(β) O πίνακας πιθανοτήτων μετάβασης της συγκεκριμένης μαρκοβιανής αλυσίδας, προκύπτει ακολούθως:\n",
    "\\begin{equation}\n",
    "            P =\n",
    "            \\begin{bmatrix}\n",
    "                0 & 0.5 & 0.5 & 0 & 0\\\\\n",
    "                0.5 & 0 & 0.5 & 0 & 0\\\\\n",
    "                0.25 & 0.25 & 0 & 0.25 & 0.25\\\\\n",
    "                0 & 0 & 1 & 0 & 0\\\\\n",
    "                0 & 0 & 1 & 0 & 0\n",
    "            \\end{bmatrix}\n",
    "\\end{equation}\n",
    "όπου $P_{ij} = \\mathbb{P}(x_{k+1} = j | x_k = i)$"
   ]
  },
  {
   "cell_type": "code",
   "execution_count": null,
   "metadata": {},
   "outputs": [],
   "source": []
  }
 ],
 "metadata": {
  "colab": {
   "collapsed_sections": [],
   "name": "Stochastic_Processes_&_Optimization_in_Machine_Learning_(Lab_3_Exercise_1).ipynb",
   "provenance": []
  },
  "kernelspec": {
   "display_name": "Python 3",
   "language": "python",
   "name": "python3"
  },
  "language_info": {
   "codemirror_mode": {
    "name": "ipython",
    "version": 3
   },
   "file_extension": ".py",
   "mimetype": "text/x-python",
   "name": "python",
   "nbconvert_exporter": "python",
   "pygments_lexer": "ipython3",
   "version": "3.8.3"
  }
 },
 "nbformat": 4,
 "nbformat_minor": 1
}
