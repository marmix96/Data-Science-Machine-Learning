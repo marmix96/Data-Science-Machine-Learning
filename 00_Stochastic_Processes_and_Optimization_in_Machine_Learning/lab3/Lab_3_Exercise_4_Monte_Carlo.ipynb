{
 "cells": [
  {
   "cell_type": "markdown",
   "metadata": {
    "id": "0LsZdK1LTB1T"
   },
   "source": [
    "<h1><b>Άσκηση 4</b></h1>\n",
    "<p align=\"justify\">Η μέθοδος Monte Carlo είναι μια υπολογιστική μέθοδος, που βασίζεται στο νόμο των μεγάλων αριθμών. Αν {Χ<sub>n</sub>}<sub>n∈N</sub> είναι μια ακολουθία από ανεξάρτητες, ισόνομες τυχαίες μεταβλητές, με πεπερασμένη μέση τιμή Ε[Χ], τότε:</p>\n",
    "\n",
    "$$\n",
    "P\\left[\n",
    "\\frac{1}{n}\\sum_{k=1}^{n}X_k \\rightarrow E[X]\n",
    "\\right] = 1\n",
    "$$\n",
    "\n",
    "<p align=\"justify\">Προκειμένου να υπολογίσουμε τη μέση τιμή Ε[Χ]  μιας τυχαίας μεταβλητής Χ, μπορούμε λοιπόν να πάρουμε το μέσο όρο ενός μεγάλου αριθμού ανεξάρτητων δειγμάτων αυτής της μεταβλητής. Με παρόμοιο τρόπο, μπορούμε να προσεγγίσουμε υπολογιστικά την πιθανότητα ενός ενδεχομένου από το κλάσμα των πραγματοποιήσεών του σε μια σειρά από <b>m</b> ανεξάρτητες προσομοιώσεις μέχρι το βήμα <b>n</b>, δηλαδή:</p>\n",
    "\n",
    "$$\n",
    "P\\left[\n",
    "\\frac{1}{m} \\sum_{k=1}^{m}H_k \\rightarrow P[X_n | X_0]\n",
    "\\right] = 1\n",
    "$$\n",
    "\n",
    "<p align=\"justify\">όπου η τυχαία μεταβλητή Η_k παίρνει την τιμή 1 εάν το ενδεχόμενο πραγματοποιείται στο τέλος του εκάστοτε πειράματος και 0 στην αντίθετη περίπτωση. Σ’ αυτήν την ιδέα θα βασιστεί η άσκηση αυτή. Σας δίνεται η μαρκοβιανή αλυσίδα στο χώρο καταστάσεων <b>Χ</b>={1,2,3} με πίνακα πιθανοτήτων μετάβασης:</p>\n",
    "\n",
    "$$\n",
    "P = \\begin{pmatrix}\n",
    "0 & 1 & 0\\\\\n",
    "0 & 2/3 & 1/3\\\\\n",
    "1/6 & 5/6 & 0\n",
    "\\end{pmatrix}\n",
    "$$\n",
    "\n",
    "<p align=\"justify\">Χρησιμοποιώντας το πρόγραμμα που δίνεται παρακάτω, θα πραγματοποιήσετε <b>m</b> ανεξάρτητα πειράματα για να εκτιμήσετε την πιθανότητα <b>Για να τρέξετε το πρόγραμμα θα πρέπει να έχετε φορτώσει το αρχείο <i><a href=\"https://github.com/nkostopoulos/StochasticsLabPublic/blob/master/lab3/simple_markov_chain_lib.py\">simple_markov_chain_lib.py</a></i></b>.</p>\n",
    "\n",
    "$$\n",
    "P\\left[\n",
    "X_{40} = 1 | X_0 = 1\n",
    "\\right]\n",
    "$$\n",
    "\n",
    "<p align=\"justify\">δηλαδή την πιθανότητα να βρίσκεται η αλυσίδα στην κατάσταση 1 στο 40ό βήμα της δεδομένου ότι ξεκίνησε από την κατάσταση 1. Για να ελέγξετε την ορθότητα της μεθόδου, το πρόγραμμα περιλαμβάνει και τον ακριβή υπολογισμό της παραπάνω πιθανότητας.</p> \n",
    "<ul>\n",
    "<li>Να μελετήσετε το πρόγραμμα και να περιγράψετε σύντομα τη μέθοδο που ακολουθείται.</li>\n",
    "<li>Να επαναλάβετε τη διαδικασία για τιμές της παραμέτρου m: (α) 1,000, (β) 10,000, (γ) 50,000, (δ) 100,000, (ε) 500,000. Να καταγράψετε και να σχολιάσετε την τιμή της παραπάνω πιθανότητας όπως υπολογίζεται από την προσομοίωση σε σχέση με την ακριβή τιμή της.</li>\n",
    "</ul>\n"
   ]
  },
  {
   "cell_type": "code",
   "execution_count": 1,
   "metadata": {
    "id": "gkMG5r8WX1np"
   },
   "outputs": [
    {
     "name": "stdout",
     "output_type": "stream",
     "text": [
      "After   1000 experiments the probability is 0.039 (time needed: 0.3292 seconds)\n",
      "After  10000 experiments the probability is 0.0406 (time needed: 0.3664 seconds)\n",
      "After  50000 experiments the probability is 0.03922 (time needed: 1.7960 seconds)\n",
      "After 100000 experiments the probability is 0.04064 (time needed: 3.5735 seconds)\n",
      "After 500000 experiments the probability is 0.039872 (time needed: 17.9731 seconds)\n",
      "The real probability is: 0.0399985669529409\n"
     ]
    }
   ],
   "source": [
    "from __future__ import division\n",
    "from simple_markov_chain_lib import markov_chain\n",
    "import statistics as stat\n",
    "from numpy import matmul\n",
    "import numpy as np\n",
    "\n",
    "from time import perf_counter\n",
    "\n",
    "def defineMarkovTable(): \n",
    "    p = 1/6\n",
    "    markov_table = {\n",
    "        1: {2: 1.},\n",
    "        2: {2: 2/3, 3: 1/3},\n",
    "        3: {1: p, 2: 1-p}\n",
    "    }\n",
    "\n",
    "    return markov_table\n",
    "\n",
    "def defineNumpyTable():\n",
    "    Pn = np.array([[0,1,0],\n",
    "           [0,2/3,1/3],\n",
    "           [1/6, 5/6, 0]])\n",
    "    P0 = np.array([[1,0,0]])\n",
    "\n",
    "    return Pn,P0\n",
    "\n",
    "def multiplyNumpyTables(Pn,P0):\n",
    "    for index in range(40):\n",
    "        Pn = np.matmul(Pn,Pn)\n",
    "    Pn = np.matmul(P0,Pn)\n",
    "    return Pn\n",
    "\n",
    "def defineInitDistribution():\n",
    "    init_dist = {1: 1.}\n",
    "    \n",
    "    return init_dist\n",
    "\n",
    "def calculateProbabilities(markov_table, init_dist, experiments):\n",
    "    mc = markov_chain(markov_table, init_dist)\n",
    "    steps = 40\n",
    "    visits = 0\n",
    "\n",
    "    for index in range(experiments):\n",
    "        mc.start()\n",
    "        for j in range(steps):\n",
    "            mc.move()\n",
    "        if mc.running_state == 1: visits += 1\n",
    "\n",
    "    probability = visits / experiments\n",
    "    return probability\n",
    "\n",
    "if __name__ == \"__main__\":\n",
    "    markov_table = defineMarkovTable()\n",
    "    init_dist = defineInitDistribution()\n",
    "\n",
    "    for m in [1000, 10000, 50000, 100000, 500000]:\n",
    "        t1_start = perf_counter()\n",
    "        probability = calculateProbabilities(markov_table, init_dist, m)\n",
    "        t1_end = perf_counter()\n",
    "        print(\"After {:>6} experiments the probability is {} (time needed: {:.4f} seconds)\".format(m, probability, t1_end - t1_start))\n",
    "\n",
    "    Pn,P0 = defineNumpyTable()\n",
    "    realProbability = multiplyNumpyTables(Pn,P0)\n",
    "    print(\"The real probability is:\", realProbability[0][0])"
   ]
  },
  {
   "cell_type": "markdown",
   "metadata": {},
   "source": [
    "- Το συγκεκριμένο πρόγραμμα Python που δίνεται στην εκφώνηση, χρησιμοποιεί την υπολογιστική μέθοδο Monte Carlo προκειμένου να προσδιορίσει αριθμητικά την πιθανότητα $\\mathbb{P}(X_{40} = 1|X_{0} = 1)$. Κάτι τέτοιο επιτυγχάνεται με διεξαγωγή m ανεξάρτητων πειραμάτων, όπου σε καθένα από αυτά προσομοιάζεται η μαρκοβιανή αλυσίδα της άσκησης για 40 βήματα. Ένα πείραμα θεωρείται επιτυχία, στην περίπτωση όπου έπειτα από 40 βήματα η αλυσίδα βρίσκεται στην κατάσταση 1. Δεδομένου ότι η μέθοδος Monte Carlo βασίζεται στον νόμο των μεγάλων αριθμών, η ζητούμενη πιθανότητα προσδιορίζεται ως το ποσοστό των επιτυχών πειραμάτων, προς το συνόλο των πειραμάτων που εκτελέστηκαν. Ο νόμος των μεγάλων αριθμών μας διαβεβαιώνει ότι καθώς ο αριθμός των πειραμάτων που διεξάγονται τείνει προς το άπειρο, η προσέγγιση που παίρνουμε συγκλίνει στην πραγματική πιθανότητα που αναζητούμε. Η πραγματική τιμή της ζητούμενης πιθανότητας υπολογίζεται ως εξής:\n",
    "\\begin{equation}\n",
    "    \\begin{aligned}\n",
    "        \\mathbb{P}(X_{40} = 1|X_{0} = 1) = (\\pi_{0}P^{40})_{1} = ([1, 0, 0]\\text{ }P^{40})_{1} = 0.0399985669529409,\n",
    "    \\end{aligned}\n",
    "\\end{equation}\n",
    "όπου με $(\\cdot)_{i}$ υποδηλώνουμε την i-οστή συνιστώσα του διανύσματος $(\\cdot)$.\n",
    "\n",
    "- Από την παραπάνω έξοδο του κώδικα παρατηρούμε ότι ακόμη και με 1000 επαναλήψεις έχουμε ακρίβεια τριών δεκαδικών ψηφίων. Γενικά, έπειτα από αρκετές εκτελέσεις του συγκεκριμένου προγράμματος παρατηρούμε ότι για m = 50000 ή 100000 προκύπτουν πολύ αξιόπιστα αποτελέσματα, με αισθητά λιγότερη απαίτηση χρόνου για την ολοκλήρωση της προσομοίωσης συγκριτικά με τα 500000 πειράματα. Προφανώς, καθώς το πλήθος m των πειρμάτων που διεξάγονται αυξάνεται, το απόλυτο σφάλμα μεταξύ της πραγματικής πιθανότητας και αυτής που υπολογίζουμε, μειώνεται. Ωστόσο, παρατηρούμε σημαντική αύξηση στον υπολογιστικό χρόνο που απαιτείται. Μάλιστα, η σύγκλιση επιτυγχάνεται πολύ καλά στα 50000 πειράματα, οπότε αυτή την τιμή θα επιλέγαμε για να ικανοποιήσουμε το trade-off μεταξύ ακρίβειας και υπολογιστικού χρόνου."
   ]
  }
 ],
 "metadata": {
  "colab": {
   "collapsed_sections": [],
   "name": "Stochastic_Processes_&_Optimization_in_Machine_Learning_(Lab_3_Exercise_4).ipynb",
   "provenance": []
  },
  "kernelspec": {
   "display_name": "Python 3",
   "language": "python",
   "name": "python3"
  },
  "language_info": {
   "codemirror_mode": {
    "name": "ipython",
    "version": 3
   },
   "file_extension": ".py",
   "mimetype": "text/x-python",
   "name": "python",
   "nbconvert_exporter": "python",
   "pygments_lexer": "ipython3",
   "version": "3.8.3"
  }
 },
 "nbformat": 4,
 "nbformat_minor": 1
}
